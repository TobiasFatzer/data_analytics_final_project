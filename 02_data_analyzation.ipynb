{
 "cells": [
  {
   "attachments": {},
   "cell_type": "markdown",
   "metadata": {},
   "source": [
    "# The Analyzer"
   ]
  },
  {
   "cell_type": "code",
   "execution_count": 16,
   "metadata": {
    "collapsed": true
   },
   "outputs": [],
   "source": [
    "# Libraries\n",
    "import json\n",
    "import urllib\n",
    "import folium\n",
    "import requests\n",
    "import pandas as pd\n",
    "from IPython.display import clear_output\n",
    "\n",
    "# Ignore warnings\n",
    "import warnings\n",
    "warnings.filterwarnings('ignore')"
   ]
  },
  {
   "cell_type": "code",
   "execution_count": 17,
   "metadata": {},
   "outputs": [],
   "source": [
    "df = pd.read_csv('wine_data.csv', \n",
    "                 sep=',', \n",
    "                 encoding='utf-8')"
   ]
  },
  {
   "cell_type": "code",
   "execution_count": 18,
   "metadata": {},
   "outputs": [
    {
     "name": "stdout",
     "output_type": "stream",
     "text": [
      "Geocoding address 250 out of 2799 : Frankreich\n"
     ]
    }
   ],
   "source": [
    "import requests\n",
    "import urllib.parse\n",
    "\n",
    "geolocation = []\n",
    "n = 1\n",
    "for i in df['land'].astype(str):\n",
    "    \n",
    "    print('Geocoding address', \n",
    "          n, \n",
    "          'out of', \n",
    "          len(df['land']), \n",
    "          ':', \n",
    "          i)\n",
    "    n=n+1\n",
    "    clear_output(wait=True)\n",
    "    \n",
    "    try:\n",
    "        url = 'https://nominatim.openstreetmap.org/search/' + urllib.parse.quote(i) +'?format=json'\n",
    "        response = requests.get(url).json()\n",
    "        geolocation.append(pd.Series(data={'lat': response[0][\"lat\"], 'lon': response[0][\"lon\"]}))\n",
    "\n",
    "    except:\n",
    "        geolocation.append(pd.Series(data={'lat': None, 'lon': None}))\n",
    "        \n",
    "        \n",
    "\n",
    "# Write lat and lon to df\n",
    "df_loc = pd.DataFrame(geolocation, \n",
    "                      columns=(\"lat\", \"lon\"), \n",
    "                      index=range(len(df['land'])))\n",
    "df['lat'] = df_loc['lat']\n",
    "df['lon'] = df_loc['lon']\n",
    "df.head(50)"
   ]
  }
 ],
 "metadata": {
  "kernelspec": {
   "display_name": "base",
   "language": "python",
   "name": "python3"
  },
  "language_info": {
   "codemirror_mode": {
    "name": "ipython",
    "version": 3
   },
   "file_extension": ".py",
   "mimetype": "text/x-python",
   "name": "python",
   "nbconvert_exporter": "python",
   "pygments_lexer": "ipython3",
   "version": "3.9.12"
  },
  "vscode": {
   "interpreter": {
    "hash": "db8f3c8caded5f23047ad41171cfa94352c5ecc35ea0fc5d2e78c6bfaef347d3"
   }
  }
 },
 "nbformat": 4,
 "nbformat_minor": 0
}
