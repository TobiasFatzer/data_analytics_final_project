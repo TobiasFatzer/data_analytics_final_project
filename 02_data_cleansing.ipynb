{
 "cells": [
  {
   "attachments": {},
   "cell_type": "markdown",
   "metadata": {},
   "source": [
    "# The Purge"
   ]
  },
  {
   "attachments": {},
   "cell_type": "markdown",
   "metadata": {},
   "source": [
    "## Libraries and Settings"
   ]
  },
  {
   "cell_type": "code",
   "execution_count": 11,
   "metadata": {},
   "outputs": [],
   "source": [
    "# Libraries\n",
    "import numpy as np\n",
    "import pandas as pd\n",
    "\n",
    "# Ignore warnings\n",
    "import warnings\n",
    "warnings.filterwarnings(\"ignore\")"
   ]
  },
  {
   "attachments": {},
   "cell_type": "markdown",
   "metadata": {},
   "source": [
    "## Importing Data"
   ]
  },
  {
   "cell_type": "code",
   "execution_count": 13,
   "metadata": {
    "collapsed": true
   },
   "outputs": [],
   "source": [
    "# Read the data to a pandas data frame\n",
    "df_rot = pd.read_csv('raw_data/coop_rot.csv', sep=',', encoding='utf-8')\n",
    "df_weiss = pd.read_csv('raw_data/coop_weiss.csv', sep=',', encoding='utf-8')\n",
    "df_champagner = pd.read_csv('raw_data/coop_champagner.csv', sep=',', encoding='utf-8')\n",
    "df_dessert = pd.read_csv('raw_data/coop_dessert.csv', sep=',', encoding='utf-8')\n",
    "df_rose = pd.read_csv('raw_data/coop_rose.csv', sep=',', encoding='utf-8')\n",
    "df_schaumweine = pd.read_csv('raw_data/coop_schaumweine.csv', sep=',', encoding='utf-8')"
   ]
  }
 ],
 "metadata": {
  "kernelspec": {
   "display_name": "Python 3",
   "language": "python",
   "name": "python3"
  },
  "language_info": {
   "codemirror_mode": {
    "name": "ipython",
    "version": 3
   },
   "file_extension": ".py",
   "mimetype": "text/x-python",
   "name": "python",
   "nbconvert_exporter": "python",
   "pygments_lexer": "ipython3",
   "version": "3.11.1"
  },
  "vscode": {
   "interpreter": {
    "hash": "5e880197ea4571fb5725ec54f2cd12ab676f6b1114ff0701a852ad34cb96b43d"
   }
  }
 },
 "nbformat": 4,
 "nbformat_minor": 0
}
